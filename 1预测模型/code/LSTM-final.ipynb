{
 "cells": [
  {
   "cell_type": "code",
   "execution_count": 15,
   "metadata": {},
   "outputs": [
    {
     "name": "stdout",
     "output_type": "stream",
     "text": [
      "Epoch 1/10\n",
      "1824/1824 - 3s - loss: 0.0287 - 3s/epoch - 2ms/step\n",
      "Epoch 2/10\n",
      "1824/1824 - 2s - loss: 5.5771e-04 - 2s/epoch - 845us/step\n",
      "Epoch 3/10\n",
      "1824/1824 - 2s - loss: 2.5838e-04 - 2s/epoch - 830us/step\n",
      "Epoch 4/10\n",
      "1824/1824 - 1s - loss: 2.3593e-04 - 1s/epoch - 821us/step\n",
      "Epoch 5/10\n",
      "1824/1824 - 2s - loss: 2.1440e-04 - 2s/epoch - 829us/step\n",
      "Epoch 6/10\n",
      "1824/1824 - 2s - loss: 2.0558e-04 - 2s/epoch - 1ms/step\n",
      "Epoch 7/10\n",
      "1824/1824 - 2s - loss: 2.0034e-04 - 2s/epoch - 957us/step\n",
      "Epoch 8/10\n",
      "1824/1824 - 2s - loss: 1.9425e-04 - 2s/epoch - 1ms/step\n",
      "Epoch 9/10\n",
      "1824/1824 - 2s - loss: 1.9223e-04 - 2s/epoch - 919us/step\n",
      "Epoch 10/10\n",
      "1824/1824 - 2s - loss: 1.9595e-04 - 2s/epoch - 893us/step\n",
      "loss function: mse\n",
      "1824/1824 - 1s - loss: 1.8645e-04 - 1s/epoch - 718us/step\n",
      "train loss:\t 0.0001864463120000437\n"
     ]
    },
    {
     "data": {
      "image/png": "[encoded data removed]",
      "text/plain": [
       "<Figure size 432x288 with 1 Axes>"
      ]
     },
     "metadata": {
      "needs_background": "light"
     },
     "output_type": "display_data"
    }
   ],
   "source": [
    "import numpy \n",
    "import matplotlib.pyplot as plt\n",
    "from keras.models import Sequential\n",
    "from keras.layers import Dense\n",
    "from keras.layers import LSTM\n",
    "import  pandas as pd\n",
    "import  os\n",
    "from keras.models import Sequential, load_model\n",
    "from sklearn.preprocessing import MinMaxScaler\n",
    "import tensorboard\n",
    "# dataframe = pd.read_excel('/Users/kuzaowuwei/Desktop/2022美赛/赛中数据/1预测模型/data/price_cleaned.xlsx')\n",
    "# dataset_bitcoin = dataframe['value'].values[:,1].reshape(-1,1)\n",
    "# dataset_gold = dataframe['usdpm'].values[:,1].reshape(-1,1)\n",
    "dataframe = pd.read_excel('/Users/kuzaowuwei/Desktop/2022美赛/赛中数据/1预测模型/data/LSTM-Prediction/price_pred.xlsx')\n",
    "dataset_bitcoin = dataframe['value'].values.reshape(-1,1)\n",
    "dataset_gold = dataframe['usdpm'].values.reshape(-1,1)\n",
    "# dataset = dataset_gold.copy()\n",
    "dataset = dataset_bitcoin.copy()\n",
    "# print(dataset)\n",
    "# 将整型变为float\n",
    "dataset = dataset.astype('float32')\n",
    "# 归一化数据\n",
    "scaler = MinMaxScaler(feature_range=(0, 1))\n",
    "dataset = scaler.fit_transform(dataset)\n",
    "# 划分训练集和测试集\n",
    "train_size = int(len(dataset) * 1.0)\n",
    "trainlist = dataset[:train_size]\n",
    "\n",
    "# 创建数据集\n",
    "def create_dataset(dataset, look_back):\n",
    "#这里的look_back与timestep相同\n",
    "    dataX, dataY = [], []\n",
    "    for i in range(len(dataset)-look_back-1):\n",
    "        a = dataset[i:(i+look_back)]\n",
    "        dataX.append(a)\n",
    "        dataY.append(dataset[i + look_back])\n",
    "    return numpy.array(dataX),numpy.array(dataY)\n",
    "#训练数据太少 look_back并不能过大\n",
    "look_back = 1\n",
    "trainX,trainY  = create_dataset(trainlist,look_back)\n",
    "\n",
    "trainX = numpy.reshape(trainX, (trainX.shape[0], trainX.shape[1], 1))\n",
    "\n",
    "\n",
    "\n",
    "# create and fit the LSTM network\n",
    "model = Sequential()\n",
    "model.add(LSTM(4, input_shape=(None,1)))\n",
    "model.add(Dense(1))\n",
    "model.compile(loss='mean_squared_error', optimizer='adam')\n",
    "model.fit(trainX, trainY, epochs=10, batch_size=1, verbose=2)\n",
    "model.save(os.path.join(\"DATA\",\"LSTM_GOLD\" + \"_final.h5\"))\n",
    "# make predictions\n",
    "#model = load_model(os.path.join(\"DATA\",\"Test\" + \".h5\"))\n",
    "trainPredict = model.predict(trainX)\n",
    "\n",
    " \n",
    "# 评估\n",
    "print('loss function: mse')\n",
    "train_loss = model.evaluate(trainX,trainY,batch_size=1, verbose=2)\n",
    "\n",
    "print('train loss:\\t', train_loss)\n",
    "\n",
    "\n",
    "\n",
    "#反归一化\n",
    "trainPredict = scaler.inverse_transform(trainPredict)\n",
    "trainY = scaler.inverse_transform(trainY)\n",
    "\n",
    "\n",
    "\n",
    "# 画画\n",
    "# plt.subplot(1,2,1)\n",
    "plt.plot(trainY)\n",
    "plt.plot(trainPredict[1:])\n",
    "plt.title('trainLoss:'+str(train_loss))\n",
    "plt.show()\n",
    "\n",
    "\n",
    "\n"
   ]
  },
  {
   "cell_type": "code",
   "execution_count": 17,
   "metadata": {},
   "outputs": [],
   "source": [
    "\n",
    "trainY_t = numpy.zeros(len(dataset)).reshape(-1,1)\n",
    "trainY_t[2:] = trainPredict\n",
    "dataframe['bitcoin_pred']=trainY_t\n",
    "dataframe.to_excel('/Users/kuzaowuwei/Desktop/2022美赛/赛中数据/1预测模型/data/LSTM-Prediction/price_pred.xlsx')"
   ]
  },
  {
   "cell_type": "code",
   "execution_count": 19,
   "metadata": {},
   "outputs": [
    {
     "name": "stderr",
     "output_type": "stream",
     "text": [
      "/var/folders/4y/vhq70vv92tx2gszq5_00sgjr0000gn/T/ipykernel_91647/124150548.py:5: FutureWarning: In a future version of pandas all arguments of DataFrame.drop except for the argument 'labels' will be keyword-only\n",
      "  dateframe = dataframe.drop('gold_bitcoin',1)\n"
     ]
    }
   ],
   "source": [
    "# dataframe.keys()\n",
    "# dataframe = dataframe.drop('Unnamed: 0',axis=1)\n",
    "# dataframe = dataframe.drop('Unnamed: 0.1',axis=1)\n",
    "# dataframe.keys()\n",
    "dateframe = dataframe.drop('gold_bitcoin',1)\n",
    "dataframe.to_excel('/Users/kuzaowuwei/Desktop/2022美赛/赛中数据/1预测模型/data/LSTM-Prediction/price_pred.xlsx')"
   ]
  },
  {
   "cell_type": "code",
   "execution_count": 8,
   "metadata": {},
   "outputs": [
    {
     "data": {
      "text/plain": [
       "Index(['Unnamed: 0', 'date', 'value', 't', 'usdpm', '_merge', 'bitcoin_pred',\n",
       "       'gold_pred'],\n",
       "      dtype='object')"
      ]
     },
     "execution_count": 8,
     "metadata": {},
     "output_type": "execute_result"
    }
   ],
   "source": [
    "dataframe.keys()\n"
   ]
  },
  {
   "cell_type": "code",
   "execution_count": 10,
   "metadata": {},
   "outputs": [],
   "source": [
    "trainY_t = numpy.zeros(len(dataset)).reshape(-1,1)\n",
    "trainY_t[2:] = trainPredict"
   ]
  },
  {
   "cell_type": "code",
   "execution_count": 12,
   "metadata": {},
   "outputs": [
    {
     "data": {
      "text/plain": [
       "(1826, 1)"
      ]
     },
     "execution_count": 12,
     "metadata": {},
     "output_type": "execute_result"
    }
   ],
   "source": [
    "trainY_t.shape"
   ]
  },
  {
   "cell_type": "code",
   "execution_count": null,
   "metadata": {},
   "outputs": [],
   "source": []
  }
 ],
 "metadata": {
  "interpreter": {
   "hash": "571121258990c3076cccab8cdb8a1b847cf35af00b003ed76f2ada50f9eb31f3"
  },
  "kernelspec": {
   "display_name": "Python 3.8.12 ('py4tf')",
   "language": "python",
   "name": "python3"
  },
  "language_info": {
   "codemirror_mode": {
    "name": "ipython",
    "version": 3
   },
   "file_extension": ".py",
   "mimetype": "text/x-python",
   "name": "python",
   "nbconvert_exporter": "python",
   "pygments_lexer": "ipython3",
   "version": "3.8.12"
  },
  "orig_nbformat": 4
 },
 "nbformat": 4,
 "nbformat_minor": 2
}
