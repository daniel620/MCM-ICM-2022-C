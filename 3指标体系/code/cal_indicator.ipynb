{
 "cells": [
  {
   "cell_type": "code",
   "execution_count": 1,
   "metadata": {},
   "outputs": [],
   "source": [
    "import numpy as np\n",
    "import pandas as pd\n",
    "import matplotlib.pyplot as plt\n",
    "# read data\n",
    "df = pd.read_excel('/Users/kuzaowuwei/Desktop/2022美赛/赛中数据/3指标体系/data/price_cleaned.xlsx')\n",
    "gold_price = df['usdpm'].values"
   ]
  },
  {
   "cell_type": "code",
   "execution_count": 4,
   "metadata": {},
   "outputs": [
    {
     "data": {
      "text/plain": [
       "(1826,)"
      ]
     },
     "execution_count": 4,
     "metadata": {},
     "output_type": "execute_result"
    }
   ],
   "source": [
    "gold_price.shape"
   ]
  },
  {
   "cell_type": "code",
   "execution_count": null,
   "metadata": {},
   "outputs": [],
   "source": [
    "# 过去十天最高 high10\n",
    "\n",
    "# 过去十天最低 low10\n",
    "\n",
    "# RSV = (p-low10)/(high10 - low10) * 100%\n",
    "\n",
    "# MA_RSV(3) 对RSV的3日移动平均\n",
    "# MA_(2 * MA_RSV(3))(3)  对MA_RSV的三日移动平均\n",
    "# 最后KDJ = 3 * MA_(2 * MA_RSV(3))(3) - 2 * MA_RSV(3)\n",
    "\n",
    "\n",
    "# RSI = 12日上涨幅度和/下降幅度和\n",
    "\n",
    "\n",
    "# EMA 指数移动平均值。以指数式递减加权的移动平均，12 天的\n",
    "\n",
    "\n",
    "\n",
    "# "
   ]
  }
 ],
 "metadata": {
  "interpreter": {
   "hash": "571121258990c3076cccab8cdb8a1b847cf35af00b003ed76f2ada50f9eb31f3"
  },
  "kernelspec": {
   "display_name": "Python 3.8.12 ('py4tf')",
   "language": "python",
   "name": "python3"
  },
  "language_info": {
   "codemirror_mode": {
    "name": "ipython",
    "version": 3
   },
   "file_extension": ".py",
   "mimetype": "text/x-python",
   "name": "python",
   "nbconvert_exporter": "python",
   "pygments_lexer": "ipython3",
   "version": "3.8.12"
  },
  "orig_nbformat": 4
 },
 "nbformat": 4,
 "nbformat_minor": 2
}
