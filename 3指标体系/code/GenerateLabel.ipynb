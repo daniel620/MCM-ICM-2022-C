{
 "cells": [
  {
   "cell_type": "code",
   "execution_count": 3,
   "metadata": {},
   "outputs": [],
   "source": [
    "import numpy as np\n",
    "import pandas as pd\n",
    "import matplotlib.pyplot as plt\n",
    "df = pd.read_excel('/Users/kuzaowuwei/Desktop/2022美赛/赛中数据/3指标体系/data/resolution_2.xlsx')\n",
    "portfolio = df[['C','G','B']]\n",
    "\n"
   ]
  },
  {
   "cell_type": "code",
   "execution_count": 4,
   "metadata": {},
   "outputs": [
    {
     "data": {
      "text/plain": [
       "(1826, 3)"
      ]
     },
     "execution_count": 4,
     "metadata": {},
     "output_type": "execute_result"
    }
   ],
   "source": [
    "portfolio.shape"
   ]
  },
  {
   "cell_type": "code",
   "execution_count": 72,
   "metadata": {},
   "outputs": [
    {
     "name": "stdout",
     "output_type": "stream",
     "text": [
      "Training loss is: 0.24089983\n",
      "Training loss is: 0.24089983\n",
      "Training loss is: 0.24089983\n",
      "Training loss is: 0.24089983\n",
      "Training loss is: 0.24089983\n",
      "Training loss is: 0.24089983\n",
      "Training loss is: 0.24089983\n",
      "Training loss is: 0.24089983\n",
      "Training loss is: 0.24089983\n",
      "Training loss is: 0.24089983\n"
     ]
    }
   ],
   "source": [
    "import tensorflow as tf\n",
    "import numpy as np\n",
    "from sklearn.datasets import load_iris\n",
    "data=load_iris()\n",
    "iris_target=data.target\n",
    "iris_data=np.float32(data.data)\n",
    "\n",
    "# iris_target=np.float32(tf.keras.utils.to_categorical(iris_target,num_classes=3))\n",
    "# iris_target = np.random.rand(150,3)\n",
    "# iris_target[:,0] = 0\n",
    "\n",
    "# data: 1816 * 9\n",
    "# target: 1826 * 3 => 1816 * 3\n",
    "df = pd.read_excel('/Users/kuzaowuwei/Desktop/2022美赛/赛中数据/3指标体系/data/resolution_2.xlsx')\n",
    "portfolio = df[['C','G','B']].values[10:]\n",
    "df_i_g = pd.read_excel('/Users/kuzaowuwei/Desktop/2022美赛/赛中数据/3指标体系/data/gold_indicator.xlsx')\n",
    "df_i_b = pd.read_excel('/Users/kuzaowuwei/Desktop/2022美赛/赛中数据/3指标体系/data/bitcoin_indicator.xlsx')\n",
    "i_g = df_i_g.values\n",
    "i_b = df_i_b.values\n",
    "indicator = np.concatenate((i_g, i_b), axis = 1)\n",
    "iris_target = portfolio.copy()\n",
    "iris_data = indicator.copy()\n",
    "\n",
    "batch_size = 100\n",
    "iris_data=tf.data.Dataset.from_tensor_slices(iris_data).batch(batch_size)\n",
    "iris_target=tf.data.Dataset.from_tensor_slices(iris_target).batch(batch_size)\n",
    "\n",
    "\n",
    "\n",
    "model=tf.keras.models.Sequential()\n",
    "# model.add(tf.keras.layers.Dense(64,activation='relu'))\n",
    "# model.add(tf.keras.layers.Dense(128,activation='relu'))\n",
    "model.add(tf.keras.layers.Dense(32,activation='relu'))\n",
    "model.add(tf.keras.layers.Dense(3,activation='softmax'))\n",
    "opt=tf.optimizers.Adam(1e-3)\n",
    "for epoch in range(10):\n",
    "    for _data,lable in zip(iris_data,iris_target):\n",
    "        # if epoch == 0:\n",
    "        #     print('_data',_data)\n",
    "        with tf.GradientTape() as tape:\n",
    "            logits=model(_data)\n",
    "            # print(lable.shape, lable)\n",
    "            # loss value needs to be modified\n",
    "\n",
    "            def convert2prob(x, axis=1):\n",
    "                row_sum = x.sum(axis=axis)\n",
    "                row_sum = row_sum.reshape(-1,1)\n",
    "                s = x/row_sum\n",
    "                return s\n",
    "\n",
    "\n",
    "            x = np.array(lable)\n",
    "            true_prob = tf.convert_to_tensor(convert2prob(x))\n",
    "            # print('lable',lable)\n",
    "            loss_value = tf.reduce_mean(tf.keras.losses.mse(true_prob,logits))\n",
    "            # print('true prob',true_prob)\n",
    "            # print('pred prob',logits)\n",
    "\n",
    "            # print(loss_value)\n",
    "            # loss_value=tf.reduce_mean(tf.keras.losses.categorical_crossentropy(\n",
    "            #         y_true=lable,y_pred=logits))\n",
    "            # print('loss value:',loss_value)\n",
    "            grads=tape.gradient(loss_value,model.trainable_variables)\n",
    "            opt.apply_gradients(zip(grads,model.trainable_variables))\n",
    "    print('Training loss is:',loss_value.numpy())\n"
   ]
  },
  {
   "cell_type": "code",
   "execution_count": 33,
   "metadata": {},
   "outputs": [
    {
     "data": {
      "text/plain": [
       "array([[0.23195472, 0.38641495, 0.38163036]], dtype=float32)"
      ]
     },
     "execution_count": 33,
     "metadata": {},
     "output_type": "execute_result"
    }
   ],
   "source": [
    "model.predict([[5.1 ,3.5 ,1.4, 0.2]])"
   ]
  },
  {
   "cell_type": "code",
   "execution_count": 47,
   "metadata": {},
   "outputs": [
    {
     "data": {
      "text/plain": [
       "<tf.Tensor: shape=(2,), dtype=float32, numpy=array([18.666666, 14.666667], dtype=float32)>"
      ]
     },
     "execution_count": 47,
     "metadata": {},
     "output_type": "execute_result"
    }
   ],
   "source": [
    "temp1 = [[1,2,3.],[1,2,3.]]\n",
    "temp2 =[ [3,8,7.], [3,8,5.]]\n",
    "\n",
    "tf.keras.losses.mse(temp1, temp2)"
   ]
  },
  {
   "cell_type": "code",
   "execution_count": 35,
   "metadata": {},
   "outputs": [
    {
     "data": {
      "text/plain": [
       "(1816, 3)"
      ]
     },
     "execution_count": 35,
     "metadata": {},
     "output_type": "execute_result"
    }
   ],
   "source": [
    "df = pd.read_excel('/Users/kuzaowuwei/Desktop/2022美赛/赛中数据/3指标体系/data/resolution_2.xlsx')\n",
    "portfolio = df[['C','G','B']].values[10:]\n",
    "df_i_g = pd.read_excel('/Users/kuzaowuwei/Desktop/2022美赛/赛中数据/3指标体系/data/gold_indicator.xlsx')\n",
    "df_i_b = pd.read_excel('/Users/kuzaowuwei/Desktop/2022美赛/赛中数据/3指标体系/data/bitcoin_indicator.xlsx')\n",
    "i_g = df_i_g.values\n",
    "i_b = df_i_b.values\n",
    "indicator = np.concatenate((i_g, i_b), axis = 1)\n",
    "iris_target = portfolio.copy()\n",
    "iris_data = indicator.copy()\n",
    "\n",
    "\n"
   ]
  },
  {
   "cell_type": "code",
   "execution_count": 70,
   "metadata": {},
   "outputs": [
    {
     "name": "stdout",
     "output_type": "stream",
     "text": [
      "[[0.16666667 0.33333333 0.5       ]\n",
      " [0.5        0.33333333 0.16666667]]\n"
     ]
    }
   ],
   "source": [
    "def convert2prob(x, axis=1):\n",
    "    row_sum = x.sum(axis=axis)\n",
    "    row_sum = row_sum.reshape(-1,1)\n",
    "    s = x/row_sum\n",
    "    return s\n",
    "t =np.array( [[1,2,3.],[3,2,1.]])\n",
    "s = convert2prob(t)\n",
    "print(s)"
   ]
  },
  {
   "cell_type": "code",
   "execution_count": 74,
   "metadata": {},
   "outputs": [
    {
     "data": {
      "text/plain": [
       "array([[0., 0., 1.]], dtype=float32)"
      ]
     },
     "execution_count": 74,
     "metadata": {},
     "output_type": "execute_result"
    }
   ],
   "source": [
    "model.predict([[1.20055005e+03, 1.21605005e+03, 1.19034998e+03, 3.96888878e+01,\n",
    "       4.43275220e+02, 5.57572835e+01, 1.19822774e+03, 9.10516121e-01,\n",
    "       2.76037629e-02, 9.18603638e+02, 9.06599976e+02, 8.17909973e+02,\n",
    "       1.13534403e+02, 3.33851990e+02, 5.41290634e+01, 8.88525169e+02,\n",
    "       3.15952668e+00, 2.76037629e-02]])"
   ]
  },
  {
   "cell_type": "code",
   "execution_count": 73,
   "metadata": {},
   "outputs": [
    {
     "data": {
      "text/plain": [
       "array([1.20055005e+03, 1.21605005e+03, 1.19034998e+03, 3.96888878e+01,\n",
       "       4.43275220e+02, 5.57572835e+01, 1.19822774e+03, 9.10516121e-01,\n",
       "       2.76037629e-02, 9.18603638e+02, 9.06599976e+02, 8.17909973e+02,\n",
       "       1.13534403e+02, 3.33851990e+02, 5.41290634e+01, 8.88525169e+02,\n",
       "       3.15952668e+00, 2.76037629e-02])"
      ]
     },
     "execution_count": 73,
     "metadata": {},
     "output_type": "execute_result"
    }
   ],
   "source": [
    "indicator[123]"
   ]
  },
  {
   "cell_type": "code",
   "execution_count": null,
   "metadata": {},
   "outputs": [],
   "source": []
  }
 ],
 "metadata": {
  "interpreter": {
   "hash": "571121258990c3076cccab8cdb8a1b847cf35af00b003ed76f2ada50f9eb31f3"
  },
  "kernelspec": {
   "display_name": "Python 3.8.12 ('py4tf')",
   "language": "python",
   "name": "python3"
  },
  "language_info": {
   "codemirror_mode": {
    "name": "ipython",
    "version": 3
   },
   "file_extension": ".py",
   "mimetype": "text/x-python",
   "name": "python",
   "nbconvert_exporter": "python",
   "pygments_lexer": "ipython3",
   "version": "3.8.12"
  },
  "orig_nbformat": 4
 },
 "nbformat": 4,
 "nbformat_minor": 2
}
