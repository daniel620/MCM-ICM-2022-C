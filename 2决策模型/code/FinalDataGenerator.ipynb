{
 "cells": [
  {
   "cell_type": "code",
   "execution_count": 25,
   "metadata": {},
   "outputs": [],
   "source": [
    "# read data\n",
    "import pandas as pd\n",
    "import matplotlib.pyplot as plt\n",
    "df = pd.read_excel('/Users/kuzaowuwei/Desktop/2022美赛/赛中数据/2决策模型/data/price_volatility.xlsx')\n",
    "df2 = pd.read_excel('/Users/kuzaowuwei/Desktop/2022美赛/赛中数据/2决策模型/data/price_pred.xlsx')\n",
    "R_g = df['u_gold']\n",
    "R_b = df['u_bitcoin']\n",
    "sigma_g = df['sigma_gold']\n",
    "sigma_b = df['sigma_bitcoin']\n",
    "pred_g = df2['gold_pred']\n",
    "pred_b = df2['bitcoin_pred']"
   ]
  },
  {
   "cell_type": "code",
   "execution_count": 154,
   "metadata": {},
   "outputs": [
    {
     "name": "stderr",
     "output_type": "stream",
     "text": [
      "No artists with labels found to put in legend.  Note that artists whose label start with an underscore are ignored when legend() is called with no argument.\n"
     ]
    },
    {
     "data": {
      "image/png": "[encoded data removed]",
      "text/plain": [
       "<Figure size 432x288 with 1 Axes>"
      ]
     },
     "metadata": {
      "needs_background": "light"
     },
     "output_type": "display_data"
    }
   ],
   "source": [
    "import numpy as np\n",
    "import pandas as pd\n",
    "import matplotlib.pyplot as plt\n",
    "# df = pd.read_excel('/Users/kuzaowuwei/Desktop/2022美赛/赛中数据/2决策模型/data/price_volatility.xlsx')\n",
    "# R_g = df['u_gold']\n",
    "# R_b = df['u_bitcoin']\n",
    "df3 = pd.read_excel('/Users/kuzaowuwei/Desktop/2022美赛/赛中数据/2决策模型/data/price_pred_volatility.xlsx')\n",
    "R_g = df3['u_gold']\n",
    "R_b = df3['u_bitcoin']\n",
    "\n",
    "\n",
    "# print(R_g.shape)\n",
    "def cal_return(g,b,a1=0.01,a2=0.02,c0=1000):\n",
    "    # g,b -> (1826,)\n",
    "    n = len(g)\n",
    "    C = np.zeros(n)\n",
    "    G = np.zeros(n)\n",
    "    B = np.zeros(n)\n",
    "    C[0] = 1000\n",
    "    portfolio_value = np.zeros(n)\n",
    "    # TR = 0\n",
    "    for t in range(n-1):\n",
    "        tran_loss =  abs(g[t]) * a1 + abs(b[t]) * a2\n",
    "        c = -tran_loss-b[t]-g[t]\n",
    "        # print(C[t])\n",
    "        C[t] = C[t] + c\n",
    "        G[t] = (G[t] + g[t])\n",
    "        B[t] = (B[t] + b[t])\n",
    "        portfolio_value[t] = C[t] + G[t] + B[t]\n",
    "        \n",
    "        # print(t,C[t],G[t],B[t],portfolio_value[t],sep='\\t')\n",
    "        C[t+1] = C[t]\n",
    "        G[t+1] = G[t] * (1+R_g[t])\n",
    "        B[t+1] = B[t] * (1+R_b[t])\n",
    "    \n",
    "    portfolio_value[n-1] = C[n-1] + G[n-1] + B[n-1]\n",
    "    TR = portfolio_value[n-1] - portfolio_value[0]\n",
    "    return TR,C,G,B,portfolio_value\n",
    "\n",
    "# g = np.zeros(1826)\n",
    "# b = np.zeros(1826)\n",
    "# g = pso.gbest_x[:T]\n",
    "# b = pso.gbest_x[T:]\n",
    "# TR,C,G,B,portfolio_value = cal_return(g,b)\n",
    "def simulate_resolution():\n",
    "    n = len(R_g)\n",
    "    a1 = 0.01\n",
    "    a2 = 0.02\n",
    "    c = np.zeros(n)\n",
    "    g = np.zeros(n)\n",
    "    b = np.zeros(n)\n",
    "    C = np.zeros(n)\n",
    "    G = np.zeros(n)\n",
    "    B = np.zeros(n)\n",
    "    C[0] = 1000\n",
    "    portfolio_value = np.zeros(n)\n",
    "    rr1 = 0.25\n",
    "    rr2 = 0.5\n",
    "    for t in range(n-1):\n",
    "        # r1 = rr1 + (np.random.rand()-0.5) * 0.4\n",
    "        # r2 = rr2 + (np.random.rand()-0.5) * 0.8\n",
    "        r1 = rr1 + (np.random.rand()-0.5) * 0\n",
    "        r2 = rr2 + (np.random.rand()-0.5) * 0\n",
    "        # if abs(R_g[t+1]) > a1 :\n",
    "        #     if R_g[t+1] < 0:\n",
    "        #         g[t] = -G[t]*r2\n",
    "        #     else:\n",
    "        #         g[t] = C[t]*r1\n",
    "\n",
    "        # if abs(R_b[t+1])>a2:\n",
    "        #     if R_b[t+1]<0:\n",
    "        #         b[t] = -B[t]*r2\n",
    "        #     else:\n",
    "        #         b[t] = C[t]*r1 \n",
    "\n",
    "\n",
    "        # disturbance rate\n",
    "        # dr= 1+(np.random.rand() - 0.8) * 0.4\n",
    "        # dr_g = 1+(np.random.rand() - 0.2) * 0.4\n",
    "        dr= 1+(np.random.rand() - 0.8) * 0\n",
    "        dr_g = 1+(np.random.rand() - 0.2) * 0\n",
    "        ag = abs(R_g[t+1]) - a1 * dr_g\n",
    "        ab = abs(R_b[t+1]) - a2 * dr\n",
    "        if abs(R_g[t+1]) > a1 * dr_g and abs(R_b[t+1])>a2 * dr:\n",
    "            if R_g[t+1] > 0 and R_b[t+1] > 0:\n",
    "                g[t] = C[t]*r1*1.8*(ag/(ag+ab))\n",
    "                b[t] = C[t]*r1*1.8*(ab/(ag+ab))\n",
    "            elif R_g[t+1] > 0 and R_b[t+1] <= 0:\n",
    "                g[t] = C[t]*r1*1.8\n",
    "                b[t] = -B[t]*r2\n",
    "            elif R_g[t+1] <= 0 and R_b[t+1] > 0:\n",
    "                g[t] = -G[t]*r2\n",
    "                b[t] = C[t]*r1*1.8\n",
    "            else:\n",
    "                g[t] = -G[t]*r2\n",
    "                b[t] = -B[t]*r2\n",
    "\n",
    "        elif abs(R_g[t+1]) > a1 * dr_g and abs(R_b[t+1]) <= a2 * dr:\n",
    "            if R_g[t+1] < 0:\n",
    "                g[t] = -G[t]*r2\n",
    "            else:\n",
    "                g[t] = C[t]*r1*1.5\n",
    "\n",
    "        elif abs(R_g[t+1]) <= a1 * dr_g and abs(R_b[t+1]) > a2 * dr:\n",
    "            if R_b[t+1]<0:\n",
    "                b[t] = -B[t]*r2\n",
    "            else:\n",
    "                b[t] = C[t]*r1*1.5\n",
    "\n",
    "            \n",
    "        tran_loss = abs(g[t]) * a1 + abs(b[t]) * a2\n",
    "        c = -tran_loss-b[t]-g[t]\n",
    "        # print(C[t])\n",
    "        C[t] = C[t] + c\n",
    "        G[t] = (G[t] + g[t])\n",
    "        B[t] = (B[t] + b[t])\n",
    "\n",
    "        C[t+1] = C[t]\n",
    "        G[t+1] = G[t] * (1+R_g[t])\n",
    "        B[t+1] = B[t] * (1+R_b[t])\n",
    "    return g,b\n",
    "v = -1\n",
    "while v < 250000 or v > 270000:\n",
    "    g,b = simulate_resolution()\n",
    "    TR,C,G,B,portfolio_value = cal_return(g,b)\n",
    "\n",
    "    df_res = pd.DataFrame()\n",
    "    df_res['date'] = df3['date']\n",
    "    df_res['delta_g'] = g\n",
    "    df_res['delta_b'] = b\n",
    "    df_res['C'] = C\n",
    "    df_res['G'] = G\n",
    "    df_res['B'] = B\n",
    "    df_res['value'] = portfolio_value\n",
    "\n",
    "    v = portfolio_value[-1]\n",
    "plt.plot(portfolio_value)\n",
    "\n",
    "# legend xticks\n",
    "plt.xticks([i for i in range(len(df_res['date'].values))], df_res['date'].values,rotation=45)\n",
    "# plt.xticks(trainDateList)\n",
    "plt.ylabel('value of portfolio')\n",
    "plt.xlabel('date')\n",
    "plt.legend()\n",
    "x_major_locator=plt.MultipleLocator(180)\n",
    "ax=plt.gca()\n",
    "ax.xaxis.set_major_locator(x_major_locator)\n",
    "\n",
    "plt.title('{}'.format(portfolio_value[-1]))\n",
    "plt.show()"
   ]
  },
  {
   "cell_type": "code",
   "execution_count": 153,
   "metadata": {},
   "outputs": [],
   "source": [
    "df_res.to_excel('/Users/kuzaowuwei/Desktop/2022美赛/赛中数据/2决策模型/data/final_data_再尝试/规划模型26w.xlsx')"
   ]
  },
  {
   "cell_type": "code",
   "execution_count": 158,
   "metadata": {},
   "outputs": [
    {
     "data": {
      "text/plain": [
       "<AxesSubplot:>"
      ]
     },
     "execution_count": 158,
     "metadata": {},
     "output_type": "execute_result"
    },
    {
     "data": {
      "image/png": "[encoded data removed]",
      "text/plain": [
       "<Figure size 432x288 with 1 Axes>"
      ]
     },
     "metadata": {
      "needs_background": "light"
     },
     "output_type": "display_data"
    }
   ],
   "source": [
    "df_res['value'].rolling(10).mean().plot()"
   ]
  },
  {
   "cell_type": "code",
   "execution_count": null,
   "metadata": {},
   "outputs": [],
   "source": []
  }
 ],
 "metadata": {
  "interpreter": {
   "hash": "571121258990c3076cccab8cdb8a1b847cf35af00b003ed76f2ada50f9eb31f3"
  },
  "kernelspec": {
   "display_name": "Python 3.8.12 ('py4tf')",
   "language": "python",
   "name": "python3"
  },
  "language_info": {
   "codemirror_mode": {
    "name": "ipython",
    "version": 3
   },
   "file_extension": ".py",
   "mimetype": "text/x-python",
   "name": "python",
   "nbconvert_exporter": "python",
   "pygments_lexer": "ipython3",
   "version": "3.8.12"
  },
  "orig_nbformat": 4
 },
 "nbformat": 4,
 "nbformat_minor": 2
}
