{
 "cells": [
  {
   "cell_type": "code",
   "execution_count": 4,
   "metadata": {},
   "outputs": [
    {
     "name": "stdout",
     "output_type": "stream",
     "text": [
      "[0.02288406 0.02582316 0.02597284 0.02600909 0.02619015 0.02637902\n",
      " 0.02644196 0.02674815 0.02753279 0.0276511 ]\n"
     ]
    }
   ],
   "source": [
    "import pandas as pd\n",
    "import matplotlib.pyplot as plt\n",
    "import numpy as np\n",
    "a1 = np.random.normal(0.01, 0.002,50)\n",
    "a2 = np.random.normal(0.02, 0.004,50)\n",
    "a_sum = a1 + a2\n",
    "a_sum = a_sum[np.argsort(a_sum)]\n",
    "print(a_sum[:10])"
   ]
  },
  {
   "cell_type": "code",
   "execution_count": null,
   "metadata": {},
   "outputs": [],
   "source": []
  }
 ],
 "metadata": {
  "interpreter": {
   "hash": "571121258990c3076cccab8cdb8a1b847cf35af00b003ed76f2ada50f9eb31f3"
  },
  "kernelspec": {
   "display_name": "Python 3.8.12 ('py4tf')",
   "language": "python",
   "name": "python3"
  },
  "language_info": {
   "codemirror_mode": {
    "name": "ipython",
    "version": 3
   },
   "file_extension": ".py",
   "mimetype": "text/x-python",
   "name": "python",
   "nbconvert_exporter": "python",
   "pygments_lexer": "ipython3",
   "version": "3.8.12"
  },
  "orig_nbformat": 4
 },
 "nbformat": 4,
 "nbformat_minor": 2
}
