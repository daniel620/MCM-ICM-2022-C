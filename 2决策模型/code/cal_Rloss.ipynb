{
 "cells": [
  {
   "cell_type": "code",
   "execution_count": 15,
   "metadata": {},
   "outputs": [],
   "source": [
    "import numpy as np\n",
    "import pandas as pd\n",
    "import matplotlib.pyplot as plt\n",
    "d = pd.read_excel('/Users/kuzaowuwei/Desktop/2022美赛/赛中数据/2决策模型/data/price_volatility_new.xlsx')\n",
    "d1 = pd.read_excel('/Users/kuzaowuwei/Desktop/2022美赛/赛中数据/2决策模型/data/final_data/规划模型25w.xlsx')\n",
    "sigma_gold = d['sigma_gold'].values\n",
    "u_gold = d['u_gold'].values\n",
    "sigma_bitcoin = d['sigma_bitcoin'].values\n",
    "u_bitcoin = d['u_bitcoin'].values\n",
    "C = d1['C'].values\n",
    "G = d1['G'].values\n",
    "B = d1['B'].values\n",
    "w_gold = 0.001126\n",
    "w_bitcoin = 0.04559\n"
   ]
  },
  {
   "cell_type": "code",
   "execution_count": 16,
   "metadata": {},
   "outputs": [
    {
     "name": "stdout",
     "output_type": "stream",
     "text": [
      "-24428.897872464393\n"
     ]
    },
    {
     "data": {
      "text/plain": [
       "[<matplotlib.lines.Line2D at 0x7fcfc24ace20>]"
      ]
     },
     "execution_count": 16,
     "metadata": {},
     "output_type": "execute_result"
    },
    {
     "data": {
      "image/png": "[encoded data removed]",
      "text/plain": [
       "<Figure size 432x288 with 1 Axes>"
      ]
     },
     "metadata": {
      "needs_background": "light"
     },
     "output_type": "display_data"
    }
   ],
   "source": [
    "R_loss = 0\n",
    "loss = np.zeros(len(sigma_gold))\n",
    "for i in range(len(sigma_gold)-1):\n",
    "    t = i+1\n",
    "    if sigma_gold[t] > w_gold and u_gold[t] < 0:\n",
    "        R_loss += G[t-1] * u_gold[t]\n",
    "    if sigma_bitcoin[t] > w_bitcoin and u_bitcoin[t] < 0:\n",
    "        R_loss += B[t-1] * u_bitcoin[t]\n",
    "    loss[t] = R_loss \n",
    "print(R_loss)\n",
    "plt.plot(loss)"
   ]
  },
  {
   "cell_type": "code",
   "execution_count": null,
   "metadata": {},
   "outputs": [],
   "source": []
  }
 ],
 "metadata": {
  "interpreter": {
   "hash": "571121258990c3076cccab8cdb8a1b847cf35af00b003ed76f2ada50f9eb31f3"
  },
  "kernelspec": {
   "display_name": "Python 3.8.12 ('py4tf')",
   "language": "python",
   "name": "python3"
  },
  "language_info": {
   "codemirror_mode": {
    "name": "ipython",
    "version": 3
   },
   "file_extension": ".py",
   "mimetype": "text/x-python",
   "name": "python",
   "nbconvert_exporter": "python",
   "pygments_lexer": "ipython3",
   "version": "3.8.12"
  },
  "orig_nbformat": 4
 },
 "nbformat": 4,
 "nbformat_minor": 2
}
