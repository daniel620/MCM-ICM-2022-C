{
 "cells": [
  {
   "cell_type": "code",
   "execution_count": null,
   "metadata": {},
   "outputs": [],
   "source": [
    "from sko.PSO import PSO\n",
    "import numpy as np\n",
    "\n",
    "TR = 1000\n",
    "np.random.seed(1)\n",
    "R_g = (np.random.rand(1000)-0.5)*0.1\n",
    "R_b = (np.random.rand(1000)-0.5)*0.1\n",
    "\n",
    "def demo_func(x):\n",
    "    # c = x[:1000]\n",
    "    g = x[:1000]\n",
    "    b = x[1000:]\n",
    "    C = 998\n",
    "    G = 1\n",
    "    B = 1\n",
    "    for t in range(1000):\n",
    "        tran_loss =  G * abs(g[t]) * 0.02 + B * abs(b[t]) * 0.01\n",
    "        c =( tran_loss-B*b[t]-G*g[t])/C\n",
    "        C = C*(1+c) - tran_loss\n",
    "        G = G * (1+g[t]) * (1+R_g[t])\n",
    "        B = B * (1+b[t]) * (1+R_b[t])\n",
    "        if C < 1 or G < 1 or B < 1 or c < -0.9:\n",
    "            return 0\n",
    "    \n",
    "    return -(C+G+B)\n",
    "\n",
    "pso = PSO(func=demo_func, dim=2000,max_iter = 100000, lb = -0.9)\n",
    "fitness = pso.run()\n",
    "# print('best_x is ',pso.gbest_x)\n",
    "print('best_y is ',-pso.gbest_y)\n",
    "# print(fitness)\n",
    "# pso.plot_history()\n",
    "# pso.\n"
   ]
  },
  {
   "cell_type": "code",
   "execution_count": null,
   "metadata": {},
   "outputs": [],
   "source": [
    "print('best_y is ',-pso.gbest_y)\n",
    "\n"
   ]
  },
  {
   "cell_type": "code",
   "execution_count": 8,
   "metadata": {},
   "outputs": [
    {
     "name": "stdout",
     "output_type": "stream",
     "text": [
      "best_y is  [-1866.5914728]\n"
     ]
    }
   ],
   "source": [
    "from sko.PSO import PSO\n",
    "import numpy as np\n",
    "\n",
    "# TR = 1000\n",
    "np.random.seed(1)\n",
    "R_g = (np.random.rand(1000)-0.5)*0.1\n",
    "R_b = (np.random.rand(1000)-0.5)*0.1\n",
    "penalty_rate = -2\n",
    "T = 10\n",
    "def demo_func(x):\n",
    "    # c = x[:1000]\n",
    "    g = x[:T]\n",
    "    b = x[T:]\n",
    "    C = 1000\n",
    "    G = 0\n",
    "    B = 0\n",
    "    TR = 0\n",
    "    for t in range(T):\n",
    "        tran_loss =  abs(g[t]) * 0.01 + abs(b[t]) * 0.02\n",
    "        c = -tran_loss-b[t]-g[t]\n",
    "        psnt_return = c + (G + g[t]) * (1+R_g[t]) + (B + b[t]) * (1+R_b[t]) - G - B\n",
    "        C = C+c\n",
    "        G = (G + g[t]) * (1+R_g[t])\n",
    "        B = (B + b[t]) * (1+R_b[t])\n",
    "        TR += psnt_return\n",
    "        if C < 0:\n",
    "            # TR += np.exp(-C)\n",
    "            TR += C**2 * penalty_rate\n",
    "        if G < 0:\n",
    "            # TR += np.exp(-G)\n",
    "\n",
    "            TR += G**2 *penalty_rate\n",
    "        if B < 0:\n",
    "            # TR += np.exp(-B)\n",
    "\n",
    "            TR += B**2 *penalty_rate\n",
    "    \n",
    "    return -TR\n",
    "\n",
    "pso_lb = [-1000]*T*2\n",
    "pso_lb[0] = 0\n",
    "pso_lb[T] = 0\n",
    "pso_ub = [1000]*T*2\n",
    "\n",
    "pso = PSO(func=demo_func, dim=2*T,max_iter = 10000,lb= pso_lb,ub= pso_ub)\n",
    "fitness = pso.run()\n",
    "# print('best_x is ',pso.gbest_x)\n",
    "print('best_y is ',-pso.gbest_y)\n",
    "# print(fitness)\n",
    "# pso.plot_history()\n",
    "# pso.\n"
   ]
  },
  {
   "cell_type": "code",
   "execution_count": 10,
   "metadata": {},
   "outputs": [
    {
     "name": "stdout",
     "output_type": "stream",
     "text": [
      "[ 224.18817962  133.75153164 -366.47936357   48.76783067    7.86779961\n",
      "  802.70457468  184.73760063  -86.11748806 -878.01953706   65.50660726]\n"
     ]
    },
    {
     "data": {
      "image/png": "[encoded data removed]",
      "text/plain": [
       "<Figure size 432x288 with 1 Axes>"
      ]
     },
     "metadata": {
      "needs_background": "light"
     },
     "output_type": "display_data"
    }
   ],
   "source": [
    "print(pso.gbest_x[:T])\n",
    "import matplotlib.pyplot as plt\n",
    "plt.plot(pso.gbest_y_hist)\n",
    "plt.show()"
   ]
  },
  {
   "cell_type": "code",
   "execution_count": 11,
   "metadata": {},
   "outputs": [
    {
     "name": "stdout",
     "output_type": "stream",
     "text": [
      "224.18817961669856 351.46315918075726\n",
      "133.75153163923247 -12.480234095693621\n",
      "-366.47936357047485 339.2776289404126\n",
      "48.76783067351338 19.57411426010571\n",
      "7.867799605190624 -488.1117591324051\n",
      "802.704574681118 -218.74966157638843\n",
      "184.73760062670695 -55.99142552646929\n",
      "-86.11748806048746 22.589628300022074\n",
      "-878.019537061152 828.7825628006565\n",
      "65.50660725579594 -100.15290874261309\n"
     ]
    }
   ],
   "source": [
    "for i in range(T):\n",
    "    print(pso.gbest_x[i], pso.gbest_x[i+T])"
   ]
  },
  {
   "cell_type": "code",
   "execution_count": null,
   "metadata": {},
   "outputs": [],
   "source": []
  }
 ],
 "metadata": {
  "interpreter": {
   "hash": "571121258990c3076cccab8cdb8a1b847cf35af00b003ed76f2ada50f9eb31f3"
  },
  "kernelspec": {
   "display_name": "Python 3.8.12 ('py4tf')",
   "language": "python",
   "name": "python3"
  },
  "language_info": {
   "codemirror_mode": {
    "name": "ipython",
    "version": 3
   },
   "file_extension": ".py",
   "mimetype": "text/x-python",
   "name": "python",
   "nbconvert_exporter": "python",
   "pygments_lexer": "ipython3",
   "version": "3.8.12"
  },
  "orig_nbformat": 4
 },
 "nbformat": 4,
 "nbformat_minor": 2
}
