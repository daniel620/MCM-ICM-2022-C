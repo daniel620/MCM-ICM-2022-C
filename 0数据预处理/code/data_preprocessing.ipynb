{
 "cells": [
  {
   "cell_type": "code",
   "execution_count": 2,
   "metadata": {},
   "outputs": [],
   "source": [
    "import numpy as np\n",
    "import pandas as pd\n",
    "import matplotlib.pyplot as plt\n",
    "from scipy import interpolate\n",
    "# read data\n",
    "df = pd.read_excel('/Users/kuzaowuwei/Desktop/2022美赛/赛中数据/0数据预处理/data/price_all.xlsx')\n",
    "# process missing value\n",
    "df['usdpm'] = df['usdpm'].interpolate()\n",
    "df['value'] = df['value'].interpolate()\n",
    "df['usdpm'] = df['usdpm'].fillna(method='bfill') \n",
    "# describe the data\n",
    "# df['value'].describe()\n",
    "df.to_excel('/Users/kuzaowuwei/Desktop/2022美赛/赛中数据/0数据预处理/data/price_cleaned.xlsx')"
   ]
  },
  {
   "cell_type": "code",
   "execution_count": 4,
   "metadata": {},
   "outputs": [
    {
     "data": {
      "text/plain": [
       "count     1826.000000\n",
       "mean     12206.068290\n",
       "std      14043.891643\n",
       "min        594.080017\n",
       "25%       3994.982422\n",
       "50%       7924.459961\n",
       "75%      11084.729980\n",
       "max      63554.441406\n",
       "Name: value, dtype: float64"
      ]
     },
     "execution_count": 4,
     "metadata": {},
     "output_type": "execute_result"
    }
   ],
   "source": [
    "# df['value'].describe()\n",
    "# df['usdpm'].describe()\n"
   ]
  },
  {
   "cell_type": "code",
   "execution_count": null,
   "metadata": {},
   "outputs": [],
   "source": []
  }
 ],
 "metadata": {
  "interpreter": {
   "hash": "571121258990c3076cccab8cdb8a1b847cf35af00b003ed76f2ada50f9eb31f3"
  },
  "kernelspec": {
   "display_name": "Python 3.8.12 ('py4tf')",
   "language": "python",
   "name": "python3"
  },
  "language_info": {
   "codemirror_mode": {
    "name": "ipython",
    "version": 3
   },
   "file_extension": ".py",
   "mimetype": "text/x-python",
   "name": "python",
   "nbconvert_exporter": "python",
   "pygments_lexer": "ipython3",
   "version": "3.8.12"
  },
  "orig_nbformat": 4
 },
 "nbformat": 4,
 "nbformat_minor": 2
}
